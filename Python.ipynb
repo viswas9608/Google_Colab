{
  "nbformat": 4,
  "nbformat_minor": 0,
  "metadata": {
    "colab": {
      "provenance": [],
      "authorship_tag": "ABX9TyMQYG1kqePgBXyM/kn2qLB4",
      "include_colab_link": true
    },
    "kernelspec": {
      "name": "python3",
      "display_name": "Python 3"
    },
    "language_info": {
      "name": "python"
    }
  },
  "cells": [
    {
      "cell_type": "markdown",
      "metadata": {
        "id": "view-in-github",
        "colab_type": "text"
      },
      "source": [
        "<a href=\"https://colab.research.google.com/github/viswas9608/Google_Colab/blob/main/Python.ipynb\" target=\"_parent\"><img src=\"https://colab.research.google.com/assets/colab-badge.svg\" alt=\"Open In Colab\"/></a>"
      ]
    },
    {
      "cell_type": "code",
      "execution_count": null,
      "metadata": {
        "colab": {
          "base_uri": "https://localhost:8080/"
        },
        "id": "zUYchURdyN3S",
        "outputId": "630dbf83-1f69-494b-ada0-69c1a8982058"
      },
      "outputs": [
        {
          "output_type": "stream",
          "name": "stdout",
          "text": [
            "Hello\n"
          ]
        }
      ],
      "source": [
        "print('Hello')"
      ]
    },
    {
      "cell_type": "code",
      "source": [
        "lst = [1,2,3,4,5,4,3,2,1]\n",
        "lst2 = []\n",
        "\n",
        "for i in range(len(lst)-1,-1,-1):\n",
        "  lst2.append(lst[i])\n",
        "  print(lst2)\n"
      ],
      "metadata": {
        "colab": {
          "base_uri": "https://localhost:8080/"
        },
        "id": "cQYUXrgQ04p-",
        "outputId": "57157570-9f50-4442-acf0-8232ba3ff2cc"
      },
      "execution_count": 11,
      "outputs": [
        {
          "output_type": "stream",
          "name": "stdout",
          "text": [
            "[1]\n",
            "[1, 2]\n",
            "[1, 2, 3]\n",
            "[1, 2, 3, 4]\n",
            "[1, 2, 3, 4, 5]\n",
            "[1, 2, 3, 4, 5, 4]\n",
            "[1, 2, 3, 4, 5, 4, 3]\n",
            "[1, 2, 3, 4, 5, 4, 3, 2]\n",
            "[1, 2, 3, 4, 5, 4, 3, 2, 1]\n"
          ]
        }
      ]
    },
    {
      "cell_type": "code",
      "source": [
        "lst = [1,2,3,4,5,4,3,2,1]\n",
        "lst2 = []\n",
        "\n",
        "for i in range(len(lst)-1,-1,-1):\n",
        "  lst2.append(lst[i])\n",
        "print(lst2)"
      ],
      "metadata": {
        "id": "0f6vjpGS3VqN"
      },
      "execution_count": null,
      "outputs": []
    }
  ]
}